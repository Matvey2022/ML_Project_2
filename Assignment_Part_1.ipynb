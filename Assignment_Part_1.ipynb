{
 "cells": [
  {
   "cell_type": "markdown",
   "metadata": {},
   "source": [
    "# Machine Learning Assignment (First Part)\n",
    "##### Name: Matvey Makhnov<br> \n",
    "Task 1: Detection of inconsistencies in flower descriptions in online floristry and delivery platforms is essential for success, customer retention, and satisfaction. Many companies providing online floristry services are increasingly utilizing deep learning solutions to ensure that a flower image displayed on their platform matches the given description or category. <br> <br>To implement a flower classification convolutional neural network (CNN) trained on the Flowers102 dataset"
   ]
  },
  {
   "cell_type": "code",
   "execution_count": 2,
   "metadata": {},
   "outputs": [
    {
     "name": "stdout",
     "output_type": "stream",
     "text": [
      "Using device: cpu\n"
     ]
    }
   ],
   "source": [
    "import os \n",
    "import torch \n",
    "import torch.nn as nn \n",
    "import torch.optim as optim \n",
    "from torch.utils.data import DataLoader, random_split\n",
    "from torchvision import datasets, transforms\n",
    "\n",
    "\n",
    "device = torch.device('cuda' if torch.cuda.is_available() else 'cpu')\n",
    "\n",
    "# set a size for our batches \n",
    "train_batch = 32\n",
    "val_batch = 32 \n",
    "test_batch = 32\n",
    "\n",
    "train_transform = transforms.Compose([\n",
    "    transforms.Resize(224),\n",
    "    transforms.RandomHorizontalFlip(), \n",
    "    transforms.RandomRotation(15),\n",
    "    transforms.ToTensor(),\n",
    "    transforms.Normalize(mean=[0.485, 0.456, 0.406],\n",
    "                          std=[0.229, 0.224, 0.225])\n",
    "])\n",
    "\n",
    "validation_transform = transforms.Compose([\n",
    "    transforms.Resize(224),\n",
    "    transforms.ToTensor(),\n",
    "    transforms.Normalize(mean=[0.485, 0.456, 0.406],\n",
    "                          std=[0.229, 0.224, 0.225])\n",
    "]) \n",
    "\n",
    "\n",
    "data_path = os.path.join('.', 'Flowers_102_Dataset')\n",
    "\n",
    "#----------------------------------------------------------------------------------------------------------\n",
    "\n",
    "#dataset = datasets.Flowers102(root = data_path, transform=None, download=True)\n",
    "# set a size for our sets (training, validation, test) \n",
    "#train_size = int(0.8 * len(dataset))\n",
    "#val_size = int(0.1 * len(dataset))\n",
    "#test_size = len(dataset) - (train_size + val_size)\n",
    "#train_dataset, val_dataset, test_dataset =  random_split(dataset, [train_size,val_size,test_size])\n",
    "\n",
    "#----------------------------------------------------------------------------------------------------------\n",
    "\n",
    "# I want to apply 2 different transforms compositions \n",
    "# that is why I'll use next code \n",
    "train_dataset = datasets.Flowers102(root = data_path, split=\"train\", transform=train_transform, download=True)\n",
    "val_dataset = datasets.Flowers102(root = data_path, split=\"val\", transform=validation_transform, download=True) \n",
    "test_dataset = datasets.Flowers102(root = data_path, split=\"test\", transform=validation_transform, download=True)\n",
    "\n",
    "\n",
    "\n",
    "train_loader = DataLoader(dataset=train_dataset, batch_size=train_batch,shuffle=True)\n",
    "val_loader = DataLoader(dataset=val_dataset, batch_size=val_batch,shuffle=False)\n",
    "test_loader = DataLoader(dataset=test_dataset, batch_size=test_batch, shuffle=False)\n",
    "\n",
    "print(f\"Using device: {device}\")"
   ]
  },
  {
   "cell_type": "markdown",
   "metadata": {},
   "source": [
    "The next step is to build our CNN architecture depends on Table 1 in  `F24.ML.Assignment.2.pdf` file <br> In this architecture I'll use only RELU activation function for all layes and for last one I'll apply softmax to get final results. In total we'll have 102 classes cause we have 102 types of flowers in our dataset"
   ]
  },
  {
   "cell_type": "code",
   "execution_count": 7,
   "metadata": {},
   "outputs": [],
   "source": [
    "import torch.nn.functional as F \n",
    "\n",
    "class CNN_1(nn.Module):\n",
    "    def __init__(self):\n",
    "        super(CNN_1,self).__init__()\n",
    "\n",
    "        self.conv1 = nn.Conv2d(in_channels=3, out_channels=32, kernel_size=3, stride=1, padding=1)\n",
    "        self.conv2 = nn.Conv2d(in_channels=32, out_channels=64, kernel_size=3, stride=1, padding=1)\n",
    "        self.conv3 = nn.Conv2d(in_channels=64, out_channels=128, kernel_size=3, stride=1,padding=1)\n",
    "\n",
    "        self.pool = nn.MaxPool2d(kernel_size=2, stride=2)\n",
    "\n",
    "        self.fc1 = nn.Linear(in_features=128 * 28 * 28, out_features=512)\n",
    "        self.fc2 = nn.Linear(in_features=512,out_features=102)\n",
    "\n",
    "\n",
    "\n",
    "    def forward(self,x):\n",
    "\n",
    "        # the 1st convol layer input 224x224x3 output 114x112x32\n",
    "        x = self.pool(self.conv1(x))\n",
    "        # # the 2nd convol layer input 112x112x32 output 56x56x64\n",
    "        x = self.pool(self.conv2(x))\n",
    "        # the 3rd convol layer input 56x56x64 output 28x28x128\n",
    "        x = self.pool(self.conv3(x))\n",
    "\n",
    "        # here we have 28*28*128 values of feature map \n",
    "\n",
    "        # flattening \n",
    "        x = x.view(-1, 128 * 28 * 28)   \n",
    "\n",
    "\n",
    "        # using weight matrics to \n",
    "        x = F.relu(self.fc1(x))\n",
    "        x=self.fc2(x)\n",
    "\n",
    "        return F.log_softmax(x, dim = 1)\n",
    "    \n",
    "device = torch.device('cuda' if torch.cuda.is_available() else 'cpu')\n",
    "\n",
    "model_1 = CNN_1().to(device)"
   ]
  },
  {
   "cell_type": "code",
   "execution_count": 8,
   "metadata": {},
   "outputs": [],
   "source": [
    "def counter_params(model):\n",
    "    return sum(p.numel() for p in model.parameters() if p.requires_grad)"
   ]
  },
  {
   "cell_type": "code",
   "execution_count": 9,
   "metadata": {},
   "outputs": [
    {
     "name": "stdout",
     "output_type": "stream",
     "text": [
      "Number of parameters in our 1st CNN model: 51526310\n"
     ]
    }
   ],
   "source": [
    "print(f\"Number of parameters in our 1st CNN model: {counter_params(model_1)}\")"
   ]
  },
  {
   "cell_type": "markdown",
   "metadata": {},
   "source": [
    "Now I'll build training, validation and test function <br> We have to estimate our model on training, validation and test sets with using accuracy, loss and F1-score. I'll calculate average loss and accuracy for training set. And for validation and test sets I'll apply all of them (accuracy, average loss and definitely F1-score, cause it will give us ability to understand how to make our model better). <br> As a loss function I'll choose NLL Loss (Will explain latter why I choose it) "
   ]
  },
  {
   "cell_type": "code",
   "execution_count": 10,
   "metadata": {},
   "outputs": [],
   "source": [
    "from tqdm import tqdm\n",
    "from sklearn.metrics import f1_score\n",
    "\n",
    "def train_1(model, device, loader, dataset, optimizer, epoch):\n",
    "    model.train()\n",
    "    train_loss = 0 \n",
    "    correct = 0 \n",
    "    \n",
    "    for batch_idx, (images, labels) in enumerate(tqdm(loader, desc=f\"Training epoch: {epoch}\")):\n",
    "        images, labels = images.to(device), labels.to(device)\n",
    "\n",
    "        optimizer.zero_grad()\n",
    "        output = model(images)\n",
    "        loss = F.nll_loss(output,labels)\n",
    "        loss.backward()\n",
    "        optimizer.step()\n",
    "\n",
    "        train_loss +=loss\n",
    "        prediction = output.argmax(dim = 1, keepdim = True)\n",
    "        correct += (prediction == labels).sum().item()\n",
    "\n",
    "    average_loss = train_loss/len(loader)\n",
    "    accuracy = correct/len(dataset) * 100.0 \n",
    "\n",
    "    print(f\"==> Epoch {epoch} Completed: Average loss: {average_loss:.6f}\\tAccuracy: {accuracy:.3f}% \")\n",
    "\n",
    "\n",
    "def validation_1(model, device, loader, dataset):\n",
    "    model.eval()\n",
    "    validation_loss = 0\n",
    "    correct = 0 \n",
    "    v_labels_list = []\n",
    "    v_prediction_list = []\n",
    "\n",
    "    with torch.no_grad():\n",
    "        for images, labels in tqdm(loader, desc=\"Valodation\"):\n",
    "            images, labels = images.to(device), labels.to(device)\n",
    "\n",
    "            output = model(images)\n",
    "            loss = F.nll_loss(output, labels)\n",
    "            validation_loss +=loss \n",
    "\n",
    "            prediction = output.argmax(dim = 1, keepdim = True)\n",
    "            correct += (prediction == labels).sum().item()\n",
    "\n",
    "            v_labels_list.extend(labels.cpu().numpy())\n",
    "            v_prediction_list.extend(prediction.cpu().numpy())\n",
    "            \n",
    "\n",
    "    average_loss = validation_loss/len(loader)\n",
    "    accuracy = correct/len(dataset) * 100.0\n",
    "    f1 = f1_score(v_labels_list, v_prediction_list, average=\"weighted\")\n",
    "\n",
    "    print(f\"==> Validation Completed: Average Loss: {average_loss:.6f}\\tAccuracy: {accuracy:.2f}%\\tF-1 Score: {f1:.4f}\")\n",
    "\n",
    "    # return accuracy and loss for tracking \n",
    "    return average_loss, accuracy\n",
    "\n",
    "\n",
    "\n",
    "def test_1(model, device, loader,dataset):\n",
    "    model.eval()\n",
    "    test_loss = 0 \n",
    "    correct = 0\n",
    "    t_label_list = []\n",
    "    t_prediction_list = []\n",
    "\n",
    "    with torch.no_grad():\n",
    "        for images, labels in tqdm(loader, desc=\"Test\"):\n",
    "            images, labels = images.to(device), labels.to(device)\n",
    "\n",
    "            output = model(images)\n",
    "            loss = F.nll_loss(output, labels)\n",
    "            test_loss +=loss\n",
    "\n",
    "            prediction = output.argmax(dim = 1, keepdim = True)\n",
    "            correct = (prediction == labels).sum().item()\n",
    "\n",
    "            t_label_list.extend(labels.cpu().numpy())\n",
    "            t_prediction_list.extand(prediction.cpu().numpy())\n",
    "            \n",
    "    average_loss = test_loss/len(loader)\n",
    "    accuracy = correct/len(dataset)\n",
    "    f1 = f1_score(t_label_list,t_prediction_list,average=\"weighted\")\n",
    "\n",
    "    print(f\"==>Test Completed: Avverage loss: {average_loss:.6f}\\tAccuracy: {accuracy:.2f}%\\tF-1 Score: {f1:.4f}\")\n",
    "\n",
    "    # return for tracking \n",
    "    return average_loss, accuracy\n"
   ]
  },
  {
   "cell_type": "markdown",
   "metadata": {},
   "source": [
    "Now I'll train my model with applying SGD, learning rate = 0.001. Also I'll use TensorBoard <br> TensorBorad will help us to: <br>1. Inspect the model architecture <br>2. Create interactive of the visualization <br> [Link for TensorBoard documentation](https://pytorch.org/tutorials/intermediate/tensorboard_tutorial.html)"
   ]
  },
  {
   "cell_type": "code",
   "execution_count": null,
   "metadata": {},
   "outputs": [],
   "source": []
  }
 ],
 "metadata": {
  "kernelspec": {
   "display_name": "venv",
   "language": "python",
   "name": "python3"
  },
  "language_info": {
   "codemirror_mode": {
    "name": "ipython",
    "version": 3
   },
   "file_extension": ".py",
   "mimetype": "text/x-python",
   "name": "python",
   "nbconvert_exporter": "python",
   "pygments_lexer": "ipython3",
   "version": "3.11.9"
  }
 },
 "nbformat": 4,
 "nbformat_minor": 2
}
